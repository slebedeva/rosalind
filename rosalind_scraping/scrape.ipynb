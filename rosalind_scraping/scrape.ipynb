{
 "cells": [
  {
   "cell_type": "markdown",
   "metadata": {},
   "source": [
    "# Scraping Rosalind problems\n",
    "\n",
    "\n",
    "This script will take a url of a Rosalind problem \n",
    "(such as https://rosalind.info/problems/lcsq/)\n",
    "and generate a python script in puzzles/ folder\n",
    "with a skeleton of the problem solution.\n",
    "\n",
    "Use lewagon environment (has BeautifulSoup).\n"
   ]
  },
  {
   "cell_type": "code",
   "execution_count": 1,
   "metadata": {},
   "outputs": [],
   "source": [
    "\n",
    "import requests\n",
    "import os\n",
    "from bs4 import BeautifulSoup\n",
    "from scrape_rosalind_problem import scrape_rosalind_problem"
   ]
  },
  {
   "cell_type": "code",
   "execution_count": 2,
   "metadata": {},
   "outputs": [
    {
     "name": "stdout",
     "output_type": "stream",
     "text": [
      "https://rosalind.info/problems/ksim\n",
      "https://rosalind.info/problems/sims\n",
      "https://rosalind.info/problems/loca\n",
      "https://rosalind.info/problems/glob\n",
      "https://rosalind.info/problems/edta\n",
      "https://rosalind.info/problems/edit\n"
     ]
    }
   ],
   "source": [
    "main_url = \"https://rosalind.info/problems/\"\n",
    "urls = [\"ksim\", \"sims\", \"loca\", \"glob\",\n",
    "        \"edta\", \"edit\"]\n",
    "for url in urls: #[main_url+u for u in urls]:\n",
    "    print(url)\n",
    "    scrape_rosalind_problem(url)"
   ]
  },
  {
   "cell_type": "code",
   "execution_count": 54,
   "metadata": {},
   "outputs": [],
   "source": []
  },
  {
   "cell_type": "code",
   "execution_count": 59,
   "metadata": {},
   "outputs": [],
   "source": []
  },
  {
   "cell_type": "code",
   "execution_count": null,
   "metadata": {},
   "outputs": [],
   "source": []
  }
 ],
 "metadata": {
  "kernelspec": {
   "display_name": "lewagon",
   "language": "python",
   "name": "python3"
  },
  "language_info": {
   "codemirror_mode": {
    "name": "ipython",
    "version": 3
   },
   "file_extension": ".py",
   "mimetype": "text/x-python",
   "name": "python",
   "nbconvert_exporter": "python",
   "pygments_lexer": "ipython3",
   "version": "3.10.6"
  }
 },
 "nbformat": 4,
 "nbformat_minor": 2
}
