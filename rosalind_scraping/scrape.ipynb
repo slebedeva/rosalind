{
 "cells": [
  {
   "cell_type": "markdown",
   "metadata": {},
   "source": [
    "# Scraping Rosalind problems\n",
    "\n",
    "\n",
    "This script will take a url of a Rosalind problem \n",
    "(such as https://rosalind.info/problems/lcsq/)\n",
    "and generate a python script in puzzles/ folder\n",
    "with a skeleton of the problem solution.\n",
    "\n",
    "Use lewagon environment (has BeautifulSoup).\n"
   ]
  },
  {
   "cell_type": "code",
   "execution_count": 1,
   "metadata": {},
   "outputs": [],
   "source": [
    "\n",
    "import requests\n",
    "import os\n",
    "from bs4 import BeautifulSoup\n",
    "from scrape_rosalind_problem import scrape_rosalind_problem"
   ]
  },
  {
   "cell_type": "code",
   "execution_count": 2,
   "metadata": {},
   "outputs": [
    {
     "name": "stdout",
     "output_type": "stream",
     "text": [
      "https://rosalind.info/problems/ksim\n",
      "https://rosalind.info/problems/sims\n",
      "https://rosalind.info/problems/loca\n",
      "https://rosalind.info/problems/glob\n",
      "https://rosalind.info/problems/edta\n",
      "https://rosalind.info/problems/edit\n"
     ]
    }
   ],
   "source": [
    "main_url = \"https://rosalind.info/problems/\"\n",
    "urls = [\"ksim\", \"sims\", \"loca\", \"glob\",\n",
    "        \"edta\", \"edit\"]\n",
    "for url in [main_url+u for u in urls]:\n",
    "    print(url)\n",
    "    scrape_rosalind_problem(url)"
   ]
  },
  {
   "cell_type": "code",
   "execution_count": 68,
   "metadata": {},
   "outputs": [],
   "source": [
    "def scrape_rosalind_problem(url):\n",
    "    \"\"\"\n",
    "    This opens a rosalind problem and creates the following template files:\n",
    "    \n",
    "    problem_name.py in puzzles - script to write your code into\n",
    "    problem_name.txt - sample input form the description (fasta)\n",
    "    \n",
    "    :param url: url address of the puzzle to be scraped \n",
    "    \"\"\"\n",
    "    \n",
    "    # get the name of the dataset\n",
    "    problem_suffix = [s for s in url.split('/') if s][-1]\n",
    "    dataset_name = os.path.join('..', 'data', 'rosalind_' + problem_suffix + '.txt')\n",
    "\n",
    "\n",
    "    # get the html of the page\n",
    "    response = requests.get(url)\n",
    "    soup = BeautifulSoup(response.content, \"html.parser\")\n",
    "    \n",
    "    # problem title and file names\n",
    "    title = soup.find('h1').text.split('\\r\\n')[0]\n",
    "    puzzle = title.lower().replace(' ','_')\n",
    "    file_name = puzzle + '.py'\n",
    "    sample_data_path = os.path.join('..','puzzles','sample_data',puzzle+'.txt')\n",
    "\n",
    "    # description text\n",
    "    ps = soup.find_all(\"p\")\n",
    "    topics = soup.find('p', class_='topics')\n",
    "    \n",
    "    # sample data and answer\n",
    "    sample_data = soup.find_all('div', class_='codehilite')\n",
    "    sample = sample_data[0].text\n",
    "    answer = sample_data[1].text\n",
    "    \n",
    "    # write everything to a file\n",
    "    with open(os.path.join('..','puzzles',file_name), 'w') as f:\n",
    "        f.write('from rosalind.utils import read_multifasta\\n\\n')\n",
    "        # function definition to solve the puzzle\n",
    "        f.write('def solve_' + puzzle + '(fasta_path):\\n')\n",
    "        # write docstring from description\n",
    "        f.write('\\t\"\"\"\\n')\n",
    "        f.write('\\t'+title+'\\n\\n')\n",
    "        f.write(topics.text)\n",
    "        f.writelines(['\\t'+p.text for p in ps[2:8]])\n",
    "        f.write('\\n\\t\"\"\"\\n\\n')\n",
    "        f.write('\\t# Import sample sequences\\n')\n",
    "        f.write('\\tsequences = read_multifasta(fasta_path)\\n\\n')\n",
    "        f.write('\\treturn\\n')\n",
    "        f.write('\\n\\n\\n')\n",
    "        f.write('if __name__==\"__main__\":\\n')\n",
    "        f.write('\\tassert solve_'+puzzle+'('+sample_data_path+')' +' == '+ '\"'+answer.strip()+'\"\\n')\n",
    "        f.write('print(\"------rosalind problem------\")\\n')\n",
    "        f.write(f'print(solve_{puzzle}({dataset_name}))')\n",
    "        f.close()    \n",
    "\n",
    "    # write a sample input file\n",
    "    with open(sample_data_path, 'w') as t:\n",
    "        t.write(sample)\n",
    "        t.close()\n",
    "    \n",
    "    \n",
    "scrape_rosalind_problem(url)"
   ]
  },
  {
   "cell_type": "code",
   "execution_count": 54,
   "metadata": {},
   "outputs": [],
   "source": []
  },
  {
   "cell_type": "code",
   "execution_count": 59,
   "metadata": {},
   "outputs": [],
   "source": []
  },
  {
   "cell_type": "code",
   "execution_count": null,
   "metadata": {},
   "outputs": [],
   "source": []
  }
 ],
 "metadata": {
  "kernelspec": {
   "display_name": "lewagon",
   "language": "python",
   "name": "python3"
  },
  "language_info": {
   "codemirror_mode": {
    "name": "ipython",
    "version": 3
   },
   "file_extension": ".py",
   "mimetype": "text/x-python",
   "name": "python",
   "nbconvert_exporter": "python",
   "pygments_lexer": "ipython3",
   "version": "3.10.6"
  }
 },
 "nbformat": 4,
 "nbformat_minor": 2
}
